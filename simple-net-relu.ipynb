{
 "cells": [
  {
   "cell_type": "code",
   "execution_count": 1,
   "metadata": {
    "collapsed": true
   },
   "outputs": [],
   "source": [
    "import numpy as np "
   ]
  },
  {
   "cell_type": "markdown",
   "metadata": {},
   "source": [
    "# First declare our input data as an 4x3 array and the labels as an 4x1 array"
   ]
  },
  {
   "cell_type": "code",
   "execution_count": 2,
   "metadata": {
    "collapsed": true
   },
   "outputs": [],
   "source": [
    "# testdata\n",
    "\n",
    "x = np.array([[0,0,1],\n",
    "            [0,1,1],\n",
    "            [1,0,1],\n",
    "            [1,1,1]], dtype = float)\n",
    "                \n",
    "y = np.array([[3],\n",
    "            [5],\n",
    "            [1],\n",
    "            [2]], dtype = float)\n"
   ]
  },
  {
   "cell_type": "markdown",
   "metadata": {
    "collapsed": true
   },
   "source": [
    "# normalize input- / output data to a range between 0 and 1"
   ]
  },
  {
   "cell_type": "code",
   "execution_count": 3,
   "metadata": {
    "collapsed": true
   },
   "outputs": [],
   "source": [
    "# scale to prevent exploding gradients\n",
    "scale_x = np.max(x)\n",
    "scale_y = np.max(y)\n",
    "#x /= scale_x\n",
    "y /= scale_y"
   ]
  },
  {
   "cell_type": "code",
   "execution_count": 4,
   "metadata": {
    "collapsed": true
   },
   "outputs": [],
   "source": [
    "def relu(x):\n",
    "    return np.maximum(x, 0)\n",
    "\n",
    "def reluPrime(x):\n",
    "    x[x<0] = 0\n",
    "    x[x>0] = 1\n",
    "    return x\t\n",
    "\n",
    "def sigmoid(x):\n",
    "    return 1/(1+np.exp(-x))\n",
    "\n",
    "def sigmoidPrime(x):\n",
    "    return x * (1 - x)"
   ]
  },
  {
   "cell_type": "markdown",
   "metadata": {
    "collapsed": true
   },
   "source": [
    "# Define a neural network class which accepts out toy data "
   ]
  },
  {
   "cell_type": "code",
   "execution_count": 5,
   "metadata": {
    "collapsed": true
   },
   "outputs": [],
   "source": [
    "class Neural_Network(object):\n",
    "\tdef __init__(self, activation, inputSize, outputSize, hiddenSize):\n",
    "\t\t#parameters\n",
    "\t\tself.inputSize = inputSize\n",
    "\t\tself.outputSize = outputSize\n",
    "\t\tself.hiddenSize = hiddenSize\n",
    "\n",
    "\t\tself.W1 = np.random.uniform(0.1,1,[self.inputSize, self.hiddenSize])\n",
    "\t\tself.W2 = np.random.uniform(0.1,1,[self.hiddenSize, self.outputSize])\n",
    "\n",
    "\tdef forward(self, X):\n",
    "\t\t#forward propagation through our network\n",
    "\t\tself.z = np.dot(X, self.W1) \t\t\t# dot product of X (input) and first set of 3x2 weights\n",
    "\t\tself.z2 = relu(self.z) \t\t\t# activation function\n",
    "\t\tself.z3 = np.dot(self.z2, self.W2) \t\t# dot product of hidden layer (z2) and second set of 3x1 weights\n",
    "\t\to = relu(self.z3) \t\t\t\t# final activation function\n",
    "\t\treturn o\n",
    "\n",
    "\tdef backward(self, X, y, o):\n",
    "\t\t# backward propgate through network \n",
    "\t\tself.o_error = (y - o) # error in output\n",
    "\t\tself.o_delta = self.o_error*reluPrime(o) \t# applying derivative of sigmoid to error\n",
    "\n",
    "\t\tself.z2_error = self.o_delta.dot(self.W2.T) \t\t# z2 error: how much our hidden layer weights contributed to output error\n",
    "\n",
    "\t\tself.W1 += X.T.dot(self.z2_error)* 0.02 \t\t\t# adjusting first set (input --> hidden) weights\n",
    "\t\tself.W2 += self.z2.T.dot(self.o_delta) * 0.02 \t\t# adjusting second set (hidden --> output) weights\n",
    "\n",
    "\tdef train (self, X, y):\n",
    "\t\to = self.forward(X)\n",
    "\t\tself.backward(X, y, o)"
   ]
  },
  {
   "cell_type": "code",
   "execution_count": 19,
   "metadata": {},
   "outputs": [
    {
     "name": "stdout",
     "output_type": "stream",
     "text": [
      "[[ 3.19947171]\n",
      " [ 4.8021067 ]\n",
      " [ 0.79940606]\n",
      " [ 2.19938138]]\n"
     ]
    }
   ],
   "source": [
    "# create a new instance of Neural_Network class\n",
    "\n",
    "NN = Neural_Network('relu', 3,1,10)\n",
    "\n",
    "# now lets train on 600 epochs\n",
    "\n",
    "for i in xrange(600):\n",
    "  \n",
    "  NN.train(x, y)\n",
    "\n",
    "# check the result    \n",
    "\n",
    "result = NN.forward(x)\n",
    "\n",
    "# print result after 600th epoch\n",
    "print(result*scale_y)"
   ]
  },
  {
   "cell_type": "code",
   "execution_count": 24,
   "metadata": {
    "collapsed": true
   },
   "outputs": [],
   "source": [
    "# now lets create some test data to see if the network did learn correctly\n",
    "\n",
    "test = np.array([[1,1,1],\n",
    "            [0,0,1]], dtype = float)\n"
   ]
  },
  {
   "cell_type": "code",
   "execution_count": 25,
   "metadata": {},
   "outputs": [
    {
     "name": "stdout",
     "output_type": "stream",
     "text": [
      "[[ 2.24243934]\n",
      " [ 3.2514153 ]]\n"
     ]
    }
   ],
   "source": [
    "# print the predicted labels of our test data\n",
    "result = NN.forward(test)\n",
    "print(result*scale_y)"
   ]
  },
  {
   "cell_type": "code",
   "execution_count": 26,
   "metadata": {},
   "outputs": [
    {
     "name": "stdout",
     "output_type": "stream",
     "text": [
      "[[ 2.]\n",
      " [ 3.]]\n"
     ]
    }
   ],
   "source": [
    "# now lets print the real labels (values are picked from training data)\n",
    "\n",
    "label = np.array([[2],[3]], dtype = float)\n",
    "print(label)"
   ]
  },
  {
   "cell_type": "code",
   "execution_count": null,
   "metadata": {
    "collapsed": true
   },
   "outputs": [],
   "source": []
  }
 ],
 "metadata": {
  "kernelspec": {
   "display_name": "Python 2",
   "language": "python",
   "name": "python2"
  },
  "language_info": {
   "codemirror_mode": {
    "name": "ipython",
    "version": 2
   },
   "file_extension": ".py",
   "mimetype": "text/x-python",
   "name": "python",
   "nbconvert_exporter": "python",
   "pygments_lexer": "ipython2",
   "version": "2.7.14"
  }
 },
 "nbformat": 4,
 "nbformat_minor": 2
}
