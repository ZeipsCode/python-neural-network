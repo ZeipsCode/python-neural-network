{
 "cells": [
  {
   "cell_type": "code",
   "execution_count": 17,
   "metadata": {
    "collapsed": true
   },
   "outputs": [],
   "source": [
    "import numpy as np "
   ]
  },
  {
   "cell_type": "markdown",
   "metadata": {},
   "source": [
    "# First declare our input data as an 4x3 array and the labels as an 4x1 array"
   ]
  },
  {
   "cell_type": "code",
   "execution_count": 37,
   "metadata": {
    "collapsed": true
   },
   "outputs": [],
   "source": [
    "# testdata\n",
    "\n",
    "x = np.array([[0,0,1],\n",
    "            [0,1,1],\n",
    "            [1,0,1],\n",
    "            [1,1,1]], dtype = float)\n",
    "                \n",
    "y = np.array([[3],\n",
    "            [5],\n",
    "            [1],\n",
    "            [2]], dtype = float)\n"
   ]
  },
  {
   "cell_type": "markdown",
   "metadata": {
    "collapsed": true
   },
   "source": [
    "# normalize input- / output data to a range between 0 and 1"
   ]
  },
  {
   "cell_type": "code",
   "execution_count": 38,
   "metadata": {
    "collapsed": true
   },
   "outputs": [],
   "source": [
    "# scale to prevent exploding gradients\n",
    "scale_x = np.max(x)\n",
    "scale_y = np.max(y)\n",
    "x /= scale_x\n",
    "y /= scale_y"
   ]
  },
  {
   "cell_type": "markdown",
   "metadata": {
    "collapsed": true
   },
   "source": [
    "# Define a neural network class which accepts out toy data "
   ]
  },
  {
   "cell_type": "code",
   "execution_count": 39,
   "metadata": {
    "collapsed": true
   },
   "outputs": [],
   "source": [
    "class Neural_Network(object):\n",
    "    def __init__(self):\n",
    "        #parameters\n",
    "        self.inputSize = 3\n",
    "        self.outputSize = 1\n",
    "        self.hiddenSize = 10\n",
    "\n",
    "        self.W1 = np.random.uniform(0.1,1,[self.inputSize, self.hiddenSize])\n",
    "        self.W2 = np.random.uniform(0.1,1,[self.hiddenSize, self.outputSize])\n",
    "\n",
    "    def forward(self, X):\n",
    "        #forward propagation through our network\n",
    "        self.z = np.dot(X, self.W1)             # dot product of X (input) and first weights\n",
    "        self.z2 = self.sigmoid(self.z)          # use activation function on result\n",
    "        self.z3 = np.dot(self.z2, self.W2)      # dot product of hidden layer (z2) and weights of hidden layer\n",
    "        o = self.sigmoid(self.z3)               # use activation function on result\n",
    "        return o \n",
    "\n",
    "    def sigmoid(self, x):\n",
    "        # activation function \n",
    "        return 1/(1+np.exp(-x))\n",
    "\n",
    "    def sigmoidDerivative(self, x):\n",
    "        #derivative of sigmoid\n",
    "        return x * (1 - x)\n",
    "\n",
    "    def backward(self, X, y, o):\n",
    "        # backward propgate through network \n",
    "        self.o_error = (y - o) # error in output\n",
    "        self.o_delta = self.o_error*self.sigmoidDerivative(o)   # applying derivative of sigmoid to error\n",
    "\n",
    "        self.z2_error = self.o_delta.dot(self.W2.T)             # z2 error: how much our hidden layer weights contributed to output error\n",
    "\n",
    "        self.W1 += X.T.dot(self.z2_error)* 0.2                  # adjusting first set (input --> hidden) weights\n",
    "        self.W2 += self.z2.T.dot(self.o_delta) * 0.2            # adjusting second set (hidden --> output) weights\n",
    "\n",
    "    def train (self, X, y):\n",
    "        o = self.forward(X)\n",
    "        self.backward(X, y, o)"
   ]
  },
  {
   "cell_type": "code",
   "execution_count": 40,
   "metadata": {},
   "outputs": [
    {
     "name": "stdout",
     "output_type": "stream",
     "text": [
      "[[ 3.20227505]\n",
      " [ 4.4624229 ]\n",
      " [ 0.65184742]\n",
      " [ 2.17855821]]\n"
     ]
    }
   ],
   "source": [
    "# create a new instance of Neural_Network class\n",
    "\n",
    "NN = Neural_Network()\n",
    "\n",
    "# now lets train on 600 epochs\n",
    "\n",
    "for i in xrange(600):\n",
    "  \n",
    "  NN.train(x, y)\n",
    "\n",
    "# check the result    \n",
    "\n",
    "result = NN.forward(x)\n",
    "\n",
    "# print result after 600th epoch\n",
    "print(result*scale_y)"
   ]
  },
  {
   "cell_type": "code",
   "execution_count": 41,
   "metadata": {
    "collapsed": true
   },
   "outputs": [],
   "source": [
    "# now lets create some test data to see if the network did learn correctly\n",
    "\n",
    "test = np.array([[1,1,1],\n",
    "            [0,0,1]], dtype = float)\n"
   ]
  },
  {
   "cell_type": "code",
   "execution_count": 42,
   "metadata": {},
   "outputs": [
    {
     "name": "stdout",
     "output_type": "stream",
     "text": [
      "[[ 2.17855821]\n",
      " [ 3.20227505]]\n"
     ]
    }
   ],
   "source": [
    "# print the predicted labels of our test data\n",
    "result = NN.forward(test)\n",
    "print(result*scale_y)"
   ]
  },
  {
   "cell_type": "code",
   "execution_count": 43,
   "metadata": {},
   "outputs": [
    {
     "name": "stdout",
     "output_type": "stream",
     "text": [
      "[[ 2.]\n",
      " [ 3.]]\n"
     ]
    }
   ],
   "source": [
    "# now lets print the real labels (values are picked from training data)\n",
    "\n",
    "label = np.array([[2],[3]], dtype = float)\n",
    "print(label)"
   ]
  },
  {
   "cell_type": "code",
   "execution_count": null,
   "metadata": {
    "collapsed": true
   },
   "outputs": [],
   "source": []
  }
 ],
 "metadata": {
  "kernelspec": {
   "display_name": "Python 2",
   "language": "python",
   "name": "python2"
  },
  "language_info": {
   "codemirror_mode": {
    "name": "ipython",
    "version": 2
   },
   "file_extension": ".py",
   "mimetype": "text/x-python",
   "name": "python",
   "nbconvert_exporter": "python",
   "pygments_lexer": "ipython2",
   "version": "2.7.14"
  }
 },
 "nbformat": 4,
 "nbformat_minor": 2
}
